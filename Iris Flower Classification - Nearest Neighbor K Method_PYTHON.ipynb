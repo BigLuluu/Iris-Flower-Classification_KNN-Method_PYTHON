{
 "cells": [
  {
   "cell_type": "markdown",
   "metadata": {},
   "source": [
    "# Iris Flower Classification\n",
    "## Nearest Neighbor K Method (KNN)\n",
    ">### Author: Lu (Christina) Jin"
   ]
  },
  {
   "cell_type": "markdown",
   "metadata": {},
   "source": [
    "# Setup: Import all libraries"
   ]
  },
  {
   "cell_type": "code",
   "execution_count": 2,
   "metadata": {},
   "outputs": [],
   "source": [
    "import os\n",
    "import io\n",
    "import numpy as np\n",
    "import pandas as pd\n",
    "import seaborn as sns\n",
    "import matplotlib.pyplot as plt\n",
    "import matplotlib.ticker as ticker\n",
    "import scipy as scipy\n",
    "\n",
    "import statsmodels.api as sm\n",
    "from sklearn import datasets\n",
    "from sklearn import metrics\n",
    "from sklearn.neighbors import KNeighborsClassifier\n",
    "from mpl_toolkits.mplot3d import Axes3D\n",
    "from collections import Counter\n",
    "from math import sqrt\n",
    "from matplotlib.ticker import PercentFormatter\n",
    "from scipy import stats\n",
    "from pylab import rcParams\n",
    "rcParams['figure.figsize'] = (20, 10)\n",
    "sns.set_style('darkgrid')\n",
    "plt.style.use('seaborn-darkgrid')"
   ]
  },
  {
   "cell_type": "markdown",
   "metadata": {},
   "source": [
    "# Acquiring Dataset "
   ]
  },
  {
   "cell_type": "code",
   "execution_count": 6,
   "metadata": {},
   "outputs": [
    {
     "data": {
      "text/plain": [
       "array([[5.1, 3.5, 1.4, 0.2],\n",
       "       [4.9, 3. , 1.4, 0.2],\n",
       "       [4.7, 3.2, 1.3, 0.2],\n",
       "       [4.6, 3.1, 1.5, 0.2],\n",
       "       [5. , 3.6, 1.4, 0.2],\n",
       "       [5.4, 3.9, 1.7, 0.4],\n",
       "       [4.6, 3.4, 1.4, 0.3],\n",
       "       [5. , 3.4, 1.5, 0.2],\n",
       "       [4.4, 2.9, 1.4, 0.2],\n",
       "       [4.9, 3.1, 1.5, 0.1],\n",
       "       [5.4, 3.7, 1.5, 0.2],\n",
       "       [4.8, 3.4, 1.6, 0.2],\n",
       "       [4.8, 3. , 1.4, 0.1],\n",
       "       [4.3, 3. , 1.1, 0.1],\n",
       "       [5.8, 4. , 1.2, 0.2],\n",
       "       [5.7, 4.4, 1.5, 0.4],\n",
       "       [5.4, 3.9, 1.3, 0.4],\n",
       "       [5.1, 3.5, 1.4, 0.3],\n",
       "       [5.7, 3.8, 1.7, 0.3],\n",
       "       [5.1, 3.8, 1.5, 0.3],\n",
       "       [5.4, 3.4, 1.7, 0.2],\n",
       "       [5.1, 3.7, 1.5, 0.4],\n",
       "       [4.6, 3.6, 1. , 0.2],\n",
       "       [5.1, 3.3, 1.7, 0.5],\n",
       "       [4.8, 3.4, 1.9, 0.2],\n",
       "       [5. , 3. , 1.6, 0.2],\n",
       "       [5. , 3.4, 1.6, 0.4],\n",
       "       [5.2, 3.5, 1.5, 0.2],\n",
       "       [5.2, 3.4, 1.4, 0.2],\n",
       "       [4.7, 3.2, 1.6, 0.2],\n",
       "       [4.8, 3.1, 1.6, 0.2],\n",
       "       [5.4, 3.4, 1.5, 0.4],\n",
       "       [5.2, 4.1, 1.5, 0.1],\n",
       "       [5.5, 4.2, 1.4, 0.2],\n",
       "       [4.9, 3.1, 1.5, 0.2],\n",
       "       [5. , 3.2, 1.2, 0.2],\n",
       "       [5.5, 3.5, 1.3, 0.2],\n",
       "       [4.9, 3.6, 1.4, 0.1],\n",
       "       [4.4, 3. , 1.3, 0.2],\n",
       "       [5.1, 3.4, 1.5, 0.2],\n",
       "       [5. , 3.5, 1.3, 0.3],\n",
       "       [4.5, 2.3, 1.3, 0.3],\n",
       "       [4.4, 3.2, 1.3, 0.2],\n",
       "       [5. , 3.5, 1.6, 0.6],\n",
       "       [5.1, 3.8, 1.9, 0.4],\n",
       "       [4.8, 3. , 1.4, 0.3],\n",
       "       [5.1, 3.8, 1.6, 0.2],\n",
       "       [4.6, 3.2, 1.4, 0.2],\n",
       "       [5.3, 3.7, 1.5, 0.2],\n",
       "       [5. , 3.3, 1.4, 0.2],\n",
       "       [7. , 3.2, 4.7, 1.4],\n",
       "       [6.4, 3.2, 4.5, 1.5],\n",
       "       [6.9, 3.1, 4.9, 1.5],\n",
       "       [5.5, 2.3, 4. , 1.3],\n",
       "       [6.5, 2.8, 4.6, 1.5],\n",
       "       [5.7, 2.8, 4.5, 1.3],\n",
       "       [6.3, 3.3, 4.7, 1.6],\n",
       "       [4.9, 2.4, 3.3, 1. ],\n",
       "       [6.6, 2.9, 4.6, 1.3],\n",
       "       [5.2, 2.7, 3.9, 1.4],\n",
       "       [5. , 2. , 3.5, 1. ],\n",
       "       [5.9, 3. , 4.2, 1.5],\n",
       "       [6. , 2.2, 4. , 1. ],\n",
       "       [6.1, 2.9, 4.7, 1.4],\n",
       "       [5.6, 2.9, 3.6, 1.3],\n",
       "       [6.7, 3.1, 4.4, 1.4],\n",
       "       [5.6, 3. , 4.5, 1.5],\n",
       "       [5.8, 2.7, 4.1, 1. ],\n",
       "       [6.2, 2.2, 4.5, 1.5],\n",
       "       [5.6, 2.5, 3.9, 1.1],\n",
       "       [5.9, 3.2, 4.8, 1.8],\n",
       "       [6.1, 2.8, 4. , 1.3],\n",
       "       [6.3, 2.5, 4.9, 1.5],\n",
       "       [6.1, 2.8, 4.7, 1.2],\n",
       "       [6.4, 2.9, 4.3, 1.3],\n",
       "       [6.6, 3. , 4.4, 1.4],\n",
       "       [6.8, 2.8, 4.8, 1.4],\n",
       "       [6.7, 3. , 5. , 1.7],\n",
       "       [6. , 2.9, 4.5, 1.5],\n",
       "       [5.7, 2.6, 3.5, 1. ],\n",
       "       [5.5, 2.4, 3.8, 1.1],\n",
       "       [5.5, 2.4, 3.7, 1. ],\n",
       "       [5.8, 2.7, 3.9, 1.2],\n",
       "       [6. , 2.7, 5.1, 1.6],\n",
       "       [5.4, 3. , 4.5, 1.5],\n",
       "       [6. , 3.4, 4.5, 1.6],\n",
       "       [6.7, 3.1, 4.7, 1.5],\n",
       "       [6.3, 2.3, 4.4, 1.3],\n",
       "       [5.6, 3. , 4.1, 1.3],\n",
       "       [5.5, 2.5, 4. , 1.3],\n",
       "       [5.5, 2.6, 4.4, 1.2],\n",
       "       [6.1, 3. , 4.6, 1.4],\n",
       "       [5.8, 2.6, 4. , 1.2],\n",
       "       [5. , 2.3, 3.3, 1. ],\n",
       "       [5.6, 2.7, 4.2, 1.3],\n",
       "       [5.7, 3. , 4.2, 1.2],\n",
       "       [5.7, 2.9, 4.2, 1.3],\n",
       "       [6.2, 2.9, 4.3, 1.3],\n",
       "       [5.1, 2.5, 3. , 1.1],\n",
       "       [5.7, 2.8, 4.1, 1.3],\n",
       "       [6.3, 3.3, 6. , 2.5],\n",
       "       [5.8, 2.7, 5.1, 1.9],\n",
       "       [7.1, 3. , 5.9, 2.1],\n",
       "       [6.3, 2.9, 5.6, 1.8],\n",
       "       [6.5, 3. , 5.8, 2.2],\n",
       "       [7.6, 3. , 6.6, 2.1],\n",
       "       [4.9, 2.5, 4.5, 1.7],\n",
       "       [7.3, 2.9, 6.3, 1.8],\n",
       "       [6.7, 2.5, 5.8, 1.8],\n",
       "       [7.2, 3.6, 6.1, 2.5],\n",
       "       [6.5, 3.2, 5.1, 2. ],\n",
       "       [6.4, 2.7, 5.3, 1.9],\n",
       "       [6.8, 3. , 5.5, 2.1],\n",
       "       [5.7, 2.5, 5. , 2. ],\n",
       "       [5.8, 2.8, 5.1, 2.4],\n",
       "       [6.4, 3.2, 5.3, 2.3],\n",
       "       [6.5, 3. , 5.5, 1.8],\n",
       "       [7.7, 3.8, 6.7, 2.2],\n",
       "       [7.7, 2.6, 6.9, 2.3],\n",
       "       [6. , 2.2, 5. , 1.5],\n",
       "       [6.9, 3.2, 5.7, 2.3],\n",
       "       [5.6, 2.8, 4.9, 2. ],\n",
       "       [7.7, 2.8, 6.7, 2. ],\n",
       "       [6.3, 2.7, 4.9, 1.8],\n",
       "       [6.7, 3.3, 5.7, 2.1],\n",
       "       [7.2, 3.2, 6. , 1.8],\n",
       "       [6.2, 2.8, 4.8, 1.8],\n",
       "       [6.1, 3. , 4.9, 1.8],\n",
       "       [6.4, 2.8, 5.6, 2.1],\n",
       "       [7.2, 3. , 5.8, 1.6],\n",
       "       [7.4, 2.8, 6.1, 1.9],\n",
       "       [7.9, 3.8, 6.4, 2. ],\n",
       "       [6.4, 2.8, 5.6, 2.2],\n",
       "       [6.3, 2.8, 5.1, 1.5],\n",
       "       [6.1, 2.6, 5.6, 1.4],\n",
       "       [7.7, 3. , 6.1, 2.3],\n",
       "       [6.3, 3.4, 5.6, 2.4],\n",
       "       [6.4, 3.1, 5.5, 1.8],\n",
       "       [6. , 3. , 4.8, 1.8],\n",
       "       [6.9, 3.1, 5.4, 2.1],\n",
       "       [6.7, 3.1, 5.6, 2.4],\n",
       "       [6.9, 3.1, 5.1, 2.3],\n",
       "       [5.8, 2.7, 5.1, 1.9],\n",
       "       [6.8, 3.2, 5.9, 2.3],\n",
       "       [6.7, 3.3, 5.7, 2.5],\n",
       "       [6.7, 3. , 5.2, 2.3],\n",
       "       [6.3, 2.5, 5. , 1.9],\n",
       "       [6.5, 3. , 5.2, 2. ],\n",
       "       [6.2, 3.4, 5.4, 2.3],\n",
       "       [5.9, 3. , 5.1, 1.8]])"
      ]
     },
     "execution_count": 6,
     "metadata": {},
     "output_type": "execute_result"
    }
   ],
   "source": [
    "# Read data\n",
    "iris = datasets.load_iris()\n",
    "iris_df = iris.data\n",
    "iris_label = iris.target\n",
    "len(iris_df)\n",
    "iris_df"
   ]
  },
  {
   "cell_type": "markdown",
   "metadata": {},
   "source": [
    "# Setup Dataset "
   ]
  },
  {
   "cell_type": "code",
   "execution_count": 42,
   "metadata": {},
   "outputs": [],
   "source": [
    "# split data into train and test sets\n",
    "np.random.seed(100)\n",
    "indice = np.random.permutation(len(iris_df))\n",
    "sample = 25\n",
    "iris_train = iris_df[indice[:-sample]]\n",
    "iris_test = iris_df[indice[-sample:]]\n",
    "iris_train_label = iris_label[indice[:-sample]]\n",
    "iris_test_label = iris_label[indice[-sample:]]"
   ]
  },
  {
   "cell_type": "markdown",
   "metadata": {},
   "source": [
    "### NOTES:\n",
    "\n",
    "**This step is to mannually split the iris data into train and test sets for both the flower entity and the flower catagory. Enable to do this, we first need to set a fixed number for random seed, this is to ensure the stationary of samplling no matter how many times we run the script, so we won't end up getting different results every single time.**\n",
    "\n",
    "**Secondly, we need to randomly indice the iris dataset, and set the number we are willing to use as testing samples, in this case we are selecting 25 samples for testing. Then finally, we can split both the data set and the label set into training and testting sets by letting the training set be the entire dataset exclude the last 25 rows, and testing set be the last 25 rows.**"
   ]
  },
  {
   "cell_type": "markdown",
   "metadata": {},
   "source": [
    "# Using Nearest Neighbor to Classify Iris Flowers"
   ]
  },
  {
   "cell_type": "code",
   "execution_count": 43,
   "metadata": {},
   "outputs": [
    {
     "data": {
      "image/png": "[encoded data removed]",
      "text/plain": [
       "<Figure size 1440x720 with 1 Axes>"
      ]
     },
     "metadata": {},
     "output_type": "display_data"
    }
   ],
   "source": [
    "# Creating for loops for classification\n",
    "X = []\n",
    "for species in range(3):\n",
    "    X.append([[], [], []])\n",
    "    for i in range(len(iris_train)):\n",
    "        if iris_train_label[i] == species:\n",
    "            X[species][0].append(iris_train[i][0])\n",
    "            X[species][1].append(iris_train[i][1])\n",
    "            X[species][2].append(sum(iris_train[i][2:]))\n",
    "            \n",
    "color = (\"b\",\"y\",\"g\")\n",
    "fig = plt.figure()\n",
    "ax = fig.add_subplot(111, projection='3d')\n",
    "for species in range(3):\n",
    "    ax.scatter(X[species][0], X[species][1], X[species][2], c=color[species])\n",
    "    \n",
    "plt.show()"
   ]
  },
  {
   "cell_type": "markdown",
   "metadata": {},
   "source": [
    "### NOTES:\n",
    "\n",
    "**In order to create a visual to identify each classfication of iris flower through nearest neighbor method, we are first building a for loop through each the data point from the training data set to classify the different flowers which are represented by 0, 1, and 2. Then by assigning colors and running the loop, we will be able to classifying them as different species with different color indications. Here in this case, we have blue representing species 0, yellow representing species 1, and green representing species 2.**\n",
    "\n",
    "**Once we have all the data points plotted, all scatters will be shown in different colors in a multi-axis space. Although there are some points ran into each other, it is quite obvious that three klusters with blue, yellow and green dots are formed. Where many point of a color blends into another means that there are some similarities between the two species, for example species 1 and 2**"
   ]
  },
  {
   "cell_type": "markdown",
   "metadata": {},
   "source": [
    "# Setup Nearest Neighbor Model"
   ]
  },
  {
   "cell_type": "code",
   "execution_count": 61,
   "metadata": {},
   "outputs": [],
   "source": [
    "# define distance for nearness of nearest neighbor\n",
    "def distance(d1, d2):\n",
    "    d1 = np.array(d1)\n",
    "    d2 = np.array(d2)\n",
    "    return np.linalg.norm(d1 - d2)\n",
    "\n",
    "# define and build nearest neighbor model to predict species' allocation for each point\n",
    "def nearest_neighbor(train_set, labels, test_instance, k, distance = distance):\n",
    "    distances = []\n",
    "    for index in range(len(train_set)):\n",
    "        dist = distance(test_instance, train_set[index])\n",
    "        distances.append((train_set[index], dist, labels[index]))\n",
    "    distances.sort(key=lambda x: x[1])\n",
    "    neighbors = distances [:k]\n",
    "    return(neighbors)\n",
    "\n",
    "# define prediction\n",
    "def predict(neighbors):\n",
    "    class_count = Counter()\n",
    "    for neighbor in neighbors:\n",
    "        class_count[neighbor[2]] += 1\n",
    "    return class_count.most_common(1)[0][0]\n",
    "    "
   ]
  },
  {
   "cell_type": "markdown",
   "metadata": {},
   "source": [
    "# Run Model for Results"
   ]
  },
  {
   "cell_type": "code",
   "execution_count": 134,
   "metadata": {},
   "outputs": [
    {
     "name": "stdout",
     "output_type": "stream",
     "text": [
      "index: 0 , model prediction: 1 , label: 1 , data: [5.2 2.7 3.9 1.4]\n",
      "index: 1 , model prediction: 1 , label: 1 , data: [6.1 3.  4.6 1.4]\n",
      "index: 2 , model prediction: 0 , label: 0 , data: [5.  3.6 1.4 0.2]\n",
      "index: 3 , model prediction: 2 , label: 2 , data: [6.3 3.3 6.  2.5]\n",
      "index: 4 , model prediction: 2 , label: 2 , data: [6.7 2.5 5.8 1.8]\n",
      "index: 5 , model prediction: 2 , label: 2 , data: [7.4 2.8 6.1 1.9]\n",
      "index: 6 , model prediction: 1 , label: 1 , data: [6.7 3.1 4.7 1.5]\n",
      "index: 7 , model prediction: 1 , label: 1 , data: [5.  2.3 3.3 1. ]\n",
      "index: 8 , model prediction: 1 , label: 1 , data: [6.6 2.9 4.6 1.3]\n",
      "index: 9 , model prediction: 1 , label: 1 , data: [5.  2.  3.5 1. ]\n",
      "index: 10 , model prediction: 2 , label: 2 , data: [7.3 2.9 6.3 1.8]\n",
      "index: 11 , model prediction: 2 , label: 2 , data: [6.2 3.4 5.4 2.3]\n",
      "index: 12 , model prediction: 0 , label: 0 , data: [4.9 3.1 1.5 0.2]\n",
      "index: 13 , model prediction: 0 , label: 0 , data: [5.8 4.  1.2 0.2]\n",
      "index: 14 , model prediction: 1 , label: 1 , data: [5.6 3.  4.5 1.5]\n",
      "index: 15 , model prediction: 1 , label: 1 , data: [5.5 2.3 4.  1.3]\n",
      "index: 16 , model prediction: 1 , label: 1 , data: [5.1 2.5 3.  1.1]\n",
      "index: 17 , model prediction: 1 , label: 1 , data: [5.6 2.7 4.2 1.3]\n",
      "index: 18 , model prediction: 2 , label: 2 , data: [6.  3.  4.8 1.8]\n",
      "index: 19 , model prediction: 1 , label: 1 , data: [5.7 2.6 3.5 1. ]\n",
      "index: 20 , model prediction: 1 , label: 1 , data: [6.3 2.3 4.4 1.3]\n",
      "index: 21 , model prediction: 2 , label: 2 , data: [6.3 2.9 5.6 1.8]\n",
      "index: 22 , model prediction: 1 , label: 1 , data: [5.8 2.7 4.1 1. ]\n",
      "index: 23 , model prediction: 0 , label: 0 , data: [4.8 3.4 1.9 0.2]\n",
      "index: 24 , model prediction: 0 , label: 0 , data: [4.4 2.9 1.4 0.2]\n"
     ]
    }
   ],
   "source": [
    "for i in range(sample):\n",
    "    neighbors = nearest_neighbor(iris_train, iris_train_label, iris_test[i], 5, distance = distance)\n",
    "    prediction = np.array([predict(neighbors)])\n",
    "    label_pred = np.array(prediction)\n",
    "        \n",
    "    print(\"index:\", i,\n",
    "          \", model prediction:\", predict(neighbors),\n",
    "          \", label:\", iris_test_label[i],\n",
    "          \", data:\", iris_test[i])"
   ]
  },
  {
   "cell_type": "markdown",
   "metadata": {},
   "source": [
    "# Test Model Accuracy"
   ]
  },
  {
   "cell_type": "code",
   "execution_count": 162,
   "metadata": {},
   "outputs": [],
   "source": [
    "# gather all the predicted label results\n",
    "pred = []\n",
    "for i in range(sample):\n",
    "    neighbors = nearest_neighbor(iris_train, iris_train_label, iris_test[i], 5, distance = distance)\n",
    "    #prediction = pd.DataFrame([predict(neighbors)])\n",
    "    pred.append([predict(neighbors)])"
   ]
  },
  {
   "cell_type": "code",
   "execution_count": 160,
   "metadata": {},
   "outputs": [
    {
     "data": {
      "text/plain": [
       "[1, 1, 0, 2, 2, 2, 1, 1, 1, 1, 2, 2, 0, 0, 1, 1, 1, 1, 2, 1, 1, 2, 1, 0, 0]"
      ]
     },
     "execution_count": 160,
     "metadata": {},
     "output_type": "execute_result"
    }
   ],
   "source": [
    "# put all predicted results in a single \n",
    "def Extract(list):\n",
    "    return [item[0] for item in list]\n",
    "\n",
    "label_pred = Extract(pred)\n",
    "label_pred"
   ]
  },
  {
   "cell_type": "code",
   "execution_count": 158,
   "metadata": {},
   "outputs": [
    {
     "data": {
      "text/plain": [
       "1.0"
      ]
     },
     "execution_count": 158,
     "metadata": {},
     "output_type": "execute_result"
    }
   ],
   "source": [
    "metrics.accuracy_score(iris_test_label, label_pred)"
   ]
  },
  {
   "cell_type": "markdown",
   "metadata": {},
   "source": [
    "# Using SKLearn Neighbor Method Solving the Problem"
   ]
  },
  {
   "cell_type": "code",
   "execution_count": 163,
   "metadata": {},
   "outputs": [
    {
     "name": "stdout",
     "output_type": "stream",
     "text": [
      "1.0\n"
     ]
    }
   ],
   "source": [
    "# define model and algorithm\n",
    "knn = KNeighborsClassifier(n_neighbors=3)\n",
    "knn.fit(iris_train, iris_train_label)\n",
    "knn_label_pred = knn.predict(iris_test)\n",
    "\n",
    "# get accuracy for the new model\n",
    "print(metrics.accuracy_score(iris_test_label, knn_label_pred))"
   ]
  },
  {
   "cell_type": "markdown",
   "metadata": {},
   "source": [
    "# Analyze the Model"
   ]
  },
  {
   "cell_type": "markdown",
   "metadata": {},
   "source": [
    "#### Q1: What was the overall accuracy of the model?\n",
    "\n",
    "I've used two ways to define two different models for a nearest neighbor (KNN) aproach for classifying the iris flower dataset. After running both model and test for the accuracy, both models had a score of 1, or in another word 100% accuracy. Therefore, I'm getting 100% accuracy for both of my models.\n",
    "\n",
    "#### Q2: What was the accuracy of each type of iris?\n",
    "\n",
    "As I mentioned in the last question, since the accuracy is 100%, so the it remains a 100% accuracy for all types of iris flowers.\n",
    "\n",
    "#### Q3: Would you classify the model as a good model or not?\n",
    "\n",
    "If by just looking at the accuracy score of the model, I would confidently say that my models are perfect. But in fact, given it a second thought I can only say that I do have pretty good (decent) model instead \n",
    "\n",
    "Even though the models are shown with perfect accuracy scores, instead of perfect, I would rather classify these models as pretty good (decent) models. Since Regularly, in real life cases or examples with more data input or more complicated classifications, it is very unlikely we will be getting a 100% accuracy model. And even we do, higher chances are we are over fitting our model. Thus, in this case I would assume that some of the reasons that I'm getting a perfectly fitted model could be as follows:\n",
    "> 1) There aren't too many data inputs in the original iris flower dataset\n",
    ">\n",
    "> 2) The number of samples in the test set is too small\n",
    ">\n",
    "> 3) It was just lucky that I've got a perfect random training set to train my model\n",
    ">\n",
    "> 4) The number of neighbors (or the so called k) has been set to a number that's too small\n",
    "\n",
    "Therefore, I would say that it's quite odd (and lucky) that I happened to recieve a perfect accurate model, but it doesn't necessarily mean that my models are perfect.In future analysis of this dataset, I would adjust and fix the factors that I listed above, and re-run the model to test the accuracy again, or maybe make predictions on more iris flower and compare to the actual classification to see the results."
   ]
  }
 ],
 "metadata": {
  "kernelspec": {
   "display_name": "Python 3",
   "language": "python",
   "name": "python3"
  },
  "language_info": {
   "codemirror_mode": {
    "name": "ipython",
    "version": 3
   },
   "file_extension": ".py",
   "mimetype": "text/x-python",
   "name": "python",
   "nbconvert_exporter": "python",
   "pygments_lexer": "ipython3",
   "version": "3.8.5"
  }
 },
 "nbformat": 4,
 "nbformat_minor": 4
}
